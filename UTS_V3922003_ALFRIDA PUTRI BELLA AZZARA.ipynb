{
 "cells": [
  {
   "cell_type": "code",
   "execution_count": 4,
   "id": "4c033e22-3076-4eb2-a6bf-d7618b160b9a",
   "metadata": {},
   "outputs": [
    {
     "name": "stdout",
     "output_type": "stream",
     "text": [
      "Menu:\n",
      "1. Enkripsi dengan Caesar Cipher\n",
      "2. Dekripsi dengan Caesar Cipher\n",
      "3. Enkripsi dengan Vigenere Cipher\n",
      "4. Dekripsi dengan Vigenere Cipher\n",
      "5. Keluar\n"
     ]
    },
    {
     "name": "stdin",
     "output_type": "stream",
     "text": [
      "Pilih opsi (1/2/3/4/5):  1\n",
      "Masukkan teks yang akan dienkripsi:  Success is not final, failure is not fatal, it is the courage to continue that counts\n",
      "Masukkan kunci Caesar Cipher:  56\n"
     ]
    },
    {
     "name": "stdout",
     "output_type": "stream",
     "text": [
      "Teks Hasil Enkripsi (Caesar Cipher): Wyggiww mw rsx jmrep, jempyvi mw rsx jexep, mx mw xli gsyveki xs gsrxmryi xlex gsyrxw\n",
      "Menu:\n",
      "1. Enkripsi dengan Caesar Cipher\n",
      "2. Dekripsi dengan Caesar Cipher\n",
      "3. Enkripsi dengan Vigenere Cipher\n",
      "4. Dekripsi dengan Vigenere Cipher\n",
      "5. Keluar\n"
     ]
    },
    {
     "name": "stdin",
     "output_type": "stream",
     "text": [
      "Pilih opsi (1/2/3/4/5):  3\n",
      "Masukkan teks yang akan dienkripsi:   Wyggiww mw rsx jmrep, jempyvi mw rsx jexep, mx mw xli gsyveki xs gsrxmryi xlex gsyrxw\n",
      "Masukkan kunci Vigenere Cipher:  BELLA\n"
     ]
    },
    {
     "name": "stdout",
     "output_type": "stream",
     "text": [
      "Teks Hasil Enkripsi (Vigenere Cipher):  Xcrrixa xh rtb uxrft, upmqcgt mx vdi jfbpa, my qh ilj kdjvfot is hwcimsct ilfb rdysbh\n",
      "Menu:\n",
      "1. Enkripsi dengan Caesar Cipher\n",
      "2. Dekripsi dengan Caesar Cipher\n",
      "3. Enkripsi dengan Vigenere Cipher\n",
      "4. Dekripsi dengan Vigenere Cipher\n",
      "5. Keluar\n"
     ]
    },
    {
     "name": "stdin",
     "output_type": "stream",
     "text": [
      "Pilih opsi (1/2/3/4/5):  2\n",
      "Masukkan teks yang akan didekripsi:  Xcrrixa xh rtb uxrft, upmqcgt mx vdi jfbpa, my qh ilj kdjvfot is hwcimsct ilfb rdysbh\n",
      "Masukkan kunci Caesar Cipher:  56\n"
     ]
    },
    {
     "name": "stdout",
     "output_type": "stream",
     "text": [
      "Teks Hasil Dekripsi (Caesar Cipher): Tynnetw td npx qtnbp, qlimycp it rze fbxlw, iu md ehf gzfrbkp eo dsyeioyp ehbx nzuoxd\n",
      "Menu:\n",
      "1. Enkripsi dengan Caesar Cipher\n",
      "2. Dekripsi dengan Caesar Cipher\n",
      "3. Enkripsi dengan Vigenere Cipher\n",
      "4. Dekripsi dengan Vigenere Cipher\n",
      "5. Keluar\n"
     ]
    },
    {
     "name": "stdin",
     "output_type": "stream",
     "text": [
      "Pilih opsi (1/2/3/4/5):  4\n",
      "Masukkan teks yang akan didekripsi:  Tynnetw td npx qtnbp, qlimycp it rze fbxlw, iu md ehf gzfrbkp eo dsyeioyp ehbx nzuoxd\n",
      "Masukkan kunci Vigenere Cipher:  BELLA\n"
     ]
    },
    {
     "name": "stdout",
     "output_type": "stream",
     "text": [
      "Teks Hasil Dekripsi (Vigenere Cipher): Success is not final, failure is not fatal, it is the courage to continue that counts\n",
      "Menu:\n",
      "1. Enkripsi dengan Caesar Cipher\n",
      "2. Dekripsi dengan Caesar Cipher\n",
      "3. Enkripsi dengan Vigenere Cipher\n",
      "4. Dekripsi dengan Vigenere Cipher\n",
      "5. Keluar\n"
     ]
    },
    {
     "name": "stdin",
     "output_type": "stream",
     "text": [
      "Pilih opsi (1/2/3/4/5):  5\n"
     ]
    }
   ],
   "source": [
    "# Fungsi Caesar Cipher untuk enkripsi\n",
    "def caesar_encrypt(text, key):\n",
    "    encrypted_text = \"\"\n",
    "    for char in text:\n",
    "        if char.isalpha():\n",
    "            shift = 65 if char.isupper() else 97\n",
    "            encrypted_char = chr((ord(char) - shift + key) % 26 + shift)\n",
    "        else:\n",
    "            encrypted_char = char\n",
    "        encrypted_text += encrypted_char\n",
    "    return encrypted_text\n",
    "\n",
    "# Fungsi Caesar Cipher untuk dekripsi\n",
    "def caesar_decrypt(text, key):\n",
    "    decrypted_text = \"\"\n",
    "    for char in text:\n",
    "        if char.isalpha():\n",
    "            shift = 65 if char.isupper() else 97\n",
    "            decrypted_char = chr((ord(char) - shift - key) % 26 + shift)\n",
    "        else:\n",
    "            decrypted_char = char\n",
    "        decrypted_text += decrypted_char\n",
    "    return decrypted_text\n",
    "\n",
    "# Fungsi Vigenere Cipher untuk enkripsi (memperhatikan karakter non-alfabet)\n",
    "def vigenere_encrypt(text, key):\n",
    "    encrypted_text = \"\"\n",
    "    key_len = len(key)\n",
    "    key_index = 0\n",
    "\n",
    "    for char in text:\n",
    "        if char.isalpha():\n",
    "            shift = 65 if char.isupper() else 97\n",
    "            key_char = key[key_index % key_len]\n",
    "            key_shift = 65 if key_char.isupper() else 97\n",
    "            encrypted_char = chr((ord(char) - shift + ord(key_char) - key_shift) % 26 + shift)\n",
    "            key_index += 1\n",
    "        else:\n",
    "            encrypted_char = char\n",
    "        encrypted_text += encrypted_char\n",
    "\n",
    "    return encrypted_text\n",
    "\n",
    "# Fungsi Vigenere Cipher untuk dekripsi (memperhatikan karakter non-alfabet)\n",
    "def vigenere_decrypt(text, key):\n",
    "    decrypted_text = \"\"\n",
    "    key_len = len(key)\n",
    "    key_index = 0\n",
    "\n",
    "    for char in text:\n",
    "        if char.isalpha():\n",
    "            shift = 65 if char.isupper() else 97\n",
    "            key_char = key[key_index % key_len]\n",
    "            key_shift = 65 if key_char.isupper() else 97\n",
    "            decrypted_char = chr((ord(char) - shift - (ord(key_char) - key_shift)) % 26 + shift)\n",
    "            key_index += 1\n",
    "        else:\n",
    "            decrypted_char = char\n",
    "        decrypted_text += decrypted_char\n",
    "\n",
    "    return decrypted_text\n",
    "\n",
    "while True:\n",
    "    print(\"Menu:\")\n",
    "    print(\"1. Enkripsi dengan Caesar Cipher\")\n",
    "    print(\"2. Dekripsi dengan Caesar Cipher\")\n",
    "    print(\"3. Enkripsi dengan Vigenere Cipher\")\n",
    "    print(\"4. Dekripsi dengan Vigenere Cipher\")\n",
    "    print(\"5. Keluar\")\n",
    "    \n",
    "    choice = input(\"Pilih opsi (1/2/3/4/5): \")\n",
    "\n",
    "    if choice == '1':\n",
    "        text = input(\"Masukkan teks yang akan dienkripsi: \")\n",
    "        key = int(input(\"Masukkan kunci Caesar Cipher: \"))\n",
    "        result = caesar_encrypt(text, key)\n",
    "        print(\"Teks Hasil Enkripsi (Caesar Cipher):\", result)\n",
    "    elif choice == '2':\n",
    "        text = input(\"Masukkan teks yang akan didekripsi: \")\n",
    "        key = int(input(\"Masukkan kunci Caesar Cipher: \"))\n",
    "        result = caesar_decrypt(text, key)\n",
    "        print(\"Teks Hasil Dekripsi (Caesar Cipher):\", result)\n",
    "    elif choice == '3':\n",
    "        text = input(\"Masukkan teks yang akan dienkripsi: \")\n",
    "        key = input(\"Masukkan kunci Vigenere Cipher: \")\n",
    "        result = vigenere_encrypt(text, key)\n",
    "        print(\"Teks Hasil Enkripsi (Vigenere Cipher):\", result)\n",
    "    elif choice == '4':\n",
    "        text = input(\"Masukkan teks yang akan didekripsi: \")\n",
    "        key = input(\"Masukkan kunci Vigenere Cipher: \")\n",
    "        result = vigenere_decrypt(text, key)\n",
    "        print(\"Teks Hasil Dekripsi (Vigenere Cipher):\", result)\n",
    "    elif choice == '5':\n",
    "        break\n"
   ]
  },
  {
   "cell_type": "markdown",
   "id": "699472f4-5181-4006-b3a0-e7409829b107",
   "metadata": {},
   "source": []
  }
 ],
 "metadata": {
  "kernelspec": {
   "display_name": "Python 3 (ipykernel)",
   "language": "python",
   "name": "python3"
  },
  "language_info": {
   "codemirror_mode": {
    "name": "ipython",
    "version": 3
   },
   "file_extension": ".py",
   "mimetype": "text/x-python",
   "name": "python",
   "nbconvert_exporter": "python",
   "pygments_lexer": "ipython3",
   "version": "3.11.5"
  }
 },
 "nbformat": 4,
 "nbformat_minor": 5
}
